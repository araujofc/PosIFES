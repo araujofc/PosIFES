{
  "nbformat": 4,
  "nbformat_minor": 0,
  "metadata": {
    "colab": {
      "provenance": [],
      "authorship_tag": "ABX9TyPCWesgPh7L4rt7KEY3/Sy8",
      "include_colab_link": true
    },
    "kernelspec": {
      "name": "python3",
      "display_name": "Python 3"
    },
    "language_info": {
      "name": "python"
    }
  },
  "cells": [
    {
      "cell_type": "markdown",
      "metadata": {
        "id": "view-in-github",
        "colab_type": "text"
      },
      "source": [
        "<a href=\"https://colab.research.google.com/github/araujofc/PosIFES/blob/main/FabricioCAraujo_aula4.ipynb\" target=\"_parent\"><img src=\"https://colab.research.google.com/assets/colab-badge.svg\" alt=\"Open In Colab\"/></a>"
      ]
    },
    {
      "cell_type": "code",
      "source": [
        "!unzip titanic.zip"
      ],
      "metadata": {
        "colab": {
          "base_uri": "https://localhost:8080/"
        },
        "id": "SRpRrwIbc82W",
        "outputId": "8cd49a6a-e686-4e3d-e92d-43ddeb95e67d"
      },
      "execution_count": null,
      "outputs": [
        {
          "metadata": {
            "tags": null
          },
          "name": "stdout",
          "output_type": "stream",
          "text": [
            "Archive:  titanic.zip\n",
            "replace gender_submission.csv? [y]es, [n]o, [A]ll, [N]one, [r]ename: "
          ]
        }
      ]
    },
    {
      "cell_type": "code",
      "execution_count": null,
      "metadata": {
        "id": "WfbBrwqoct8U",
        "colab": {
          "base_uri": "https://localhost:8080/"
        },
        "outputId": "ba3db56a-384a-4e9e-f28d-0f7cecb057a3"
      },
      "outputs": [
        {
          "output_type": "execute_result",
          "data": {
            "text/plain": [
              "PassengerId      int64\n",
              "Survived         int64\n",
              "Pclass           int64\n",
              "Name            object\n",
              "Sex             object\n",
              "Age            float64\n",
              "SibSp            int64\n",
              "Parch            int64\n",
              "Ticket          object\n",
              "Fare           float64\n",
              "Cabin           object\n",
              "Embarked        object\n",
              "dtype: object"
            ]
          },
          "metadata": {},
          "execution_count": 23
        }
      ],
      "source": [
        "import pandas as pd\n",
        "data = pd.read_csv(\"train.csv\")\n",
        "data.dtypes"
      ]
    },
    {
      "cell_type": "code",
      "source": [
        "y =  data['Survived']\n",
        "X = data.drop('Survived', axis=1)\n",
        "X.columns"
      ],
      "metadata": {
        "id": "haDnudQcgpAe",
        "colab": {
          "base_uri": "https://localhost:8080/"
        },
        "outputId": "9c35ae72-48aa-492d-e943-5065a042c8f4"
      },
      "execution_count": null,
      "outputs": [
        {
          "output_type": "execute_result",
          "data": {
            "text/plain": [
              "Index(['PassengerId', 'Pclass', 'Name', 'Sex', 'Age', 'SibSp', 'Parch',\n",
              "       'Ticket', 'Fare', 'Cabin', 'Embarked'],\n",
              "      dtype='object')"
            ]
          },
          "metadata": {},
          "execution_count": 8
        }
      ]
    },
    {
      "cell_type": "code",
      "source": [
        "for column in X.columns:\n",
        "    print(f'{column:>12} {len(set(X[column])):4} {X[column].dtypes}')"
      ],
      "metadata": {
        "id": "3C1aiqGOgxAH",
        "colab": {
          "base_uri": "https://localhost:8080/"
        },
        "outputId": "68f90198-50a6-4871-d3bc-e453f681ac10"
      },
      "execution_count": null,
      "outputs": [
        {
          "output_type": "stream",
          "name": "stdout",
          "text": [
            " PassengerId  891 int64\n",
            "      Pclass    3 int64\n",
            "        Name  891 object\n",
            "         Sex    2 object\n",
            "         Age  265 float64\n",
            "       SibSp    7 int64\n",
            "       Parch    7 int64\n",
            "      Ticket  681 object\n",
            "        Fare  248 float64\n",
            "       Cabin  148 object\n",
            "    Embarked    4 object\n"
          ]
        }
      ]
    },
    {
      "cell_type": "code",
      "source": [
        "indesejadas = ['PassengerId', 'Name','Ticket','Cabin']\n",
        "Xdrop = X.drop(indesejadas, axis=1)\n",
        "Xdrop.columns\n",
        "# criando uma nova variável chamada Xdrop, que contém o DataFrame X excluindo as\n",
        "# colunas indesejadas: 'PassengerId', 'Name', 'Ticket' e 'Cabin'.\n",
        "# A função drop é utilizada para remover colunas (ou linhas) do DataFrame."
      ],
      "metadata": {
        "id": "OUV3n0tpg5jG",
        "colab": {
          "base_uri": "https://localhost:8080/"
        },
        "outputId": "b6327bee-2e19-435a-db0b-7d11ce7b2857"
      },
      "execution_count": null,
      "outputs": [
        {
          "data": {
            "text/plain": [
              "Index(['Pclass', 'Sex', 'Age', 'SibSp', 'Parch', 'Fare', 'Embarked'], dtype='object')"
            ]
          },
          "execution_count": 10,
          "metadata": {},
          "output_type": "execute_result"
        }
      ]
    },
    {
      "cell_type": "code",
      "source": [
        "Xnum = Xdrop.select_dtypes('number')\n",
        "Xnum.columns\n",
        "for column in Xnum.columns:\n",
        "    print(f'{column:>12} {sum(Xnum[column].isnull())}')\n",
        "\n",
        "    #  selecionando colunas numéricas do DataFrame Xdrop e, em seguida,\n",
        "    #   imprimindo o nome da coluna e a contagem de valores nulos (NaN) para cada coluna numérica.\n",
        "    # Então, para cada coluna numérica em Xnum, o código imprimirá o nome da\n",
        "    # coluna e a contagem de valores nulos nessa coluna."
      ],
      "metadata": {
        "id": "loI_ryI1g6ov",
        "colab": {
          "base_uri": "https://localhost:8080/"
        },
        "outputId": "dee1ee40-42cb-47c7-8986-26accb693c68"
      },
      "execution_count": null,
      "outputs": [
        {
          "output_type": "stream",
          "name": "stdout",
          "text": [
            "      Pclass 0\n",
            "         Age 177\n",
            "       SibSp 0\n",
            "       Parch 0\n",
            "        Fare 0\n"
          ]
        }
      ]
    },
    {
      "cell_type": "code",
      "source": [
        "from sklearn.impute import SimpleImputer\n",
        "imputer = SimpleImputer(strategy='median')\n",
        "XnumLimpo = imputer.fit_transform(Xnum)\n",
        "XnumLimpo\n",
        "\n",
        "# a classe SimpleImputer do scikit-learn para preencher os valores nulos (NaN)\n",
        "# nas colunas numéricas do DataFrame Xnum usando a estratégia da mediana\n",
        "# A variável resultante XnumLimpo é um novo conjunto de dados numéricos com os valores nulos preenchidos pela mediana."
      ],
      "metadata": {
        "id": "WY7dVkggiOpm",
        "colab": {
          "base_uri": "https://localhost:8080/"
        },
        "outputId": "f540bd94-0b53-4116-cc20-a4eef742068c"
      },
      "execution_count": null,
      "outputs": [
        {
          "output_type": "execute_result",
          "data": {
            "text/plain": [
              "array([[ 3.    , 22.    ,  1.    ,  0.    ,  7.25  ],\n",
              "       [ 1.    , 38.    ,  1.    ,  0.    , 71.2833],\n",
              "       [ 3.    , 26.    ,  0.    ,  0.    ,  7.925 ],\n",
              "       ...,\n",
              "       [ 3.    , 28.    ,  1.    ,  2.    , 23.45  ],\n",
              "       [ 1.    , 26.    ,  0.    ,  0.    , 30.    ],\n",
              "       [ 3.    , 32.    ,  0.    ,  0.    ,  7.75  ]])"
            ]
          },
          "metadata": {},
          "execution_count": 12
        }
      ]
    },
    {
      "cell_type": "code",
      "source": [
        "Xcat = Xdrop.select_dtypes('object')\n",
        "Xcat.columns\n",
        "for column in Xcat.columns:\n",
        "    print(f'{column:>12} {sum(Xcat[column].isnull())}')\n",
        "\n",
        "    #  selecionando as colunas do tipo 'object' (geralmente colunas categóricas) do DataFrame Xdrop e,\n",
        "    #  em seguida, imprimindo o nome da coluna e a contagem de valores nulos (NaN) para cada coluna categórica."
      ],
      "metadata": {
        "id": "pSewfynYiepZ",
        "colab": {
          "base_uri": "https://localhost:8080/"
        },
        "outputId": "3eff89f5-c6ed-4616-ebbf-c624e5e7a0b8"
      },
      "execution_count": null,
      "outputs": [
        {
          "output_type": "stream",
          "name": "stdout",
          "text": [
            "         Sex 0\n",
            "    Embarked 2\n"
          ]
        }
      ]
    },
    {
      "cell_type": "code",
      "source": [
        "from sklearn.impute import SimpleImputer\n",
        "imputer = SimpleImputer(strategy='most_frequent')\n",
        "XcatLimpo = imputer.fit_transform(Xcat)\n",
        "XcatLimpo\n",
        "\n",
        "#  a classe SimpleImputer do scikit-learn para preencher os valores nulos (NaN) nas colunas categóricas\n",
        "#   do DataFrame Xcat usando a estratégia do valor mais frequente (most frequent)."
      ],
      "metadata": {
        "id": "Lt2TywZTjV5e",
        "colab": {
          "base_uri": "https://localhost:8080/"
        },
        "outputId": "409da2ba-9e82-4173-e92d-503cc81ece41"
      },
      "execution_count": null,
      "outputs": [
        {
          "output_type": "execute_result",
          "data": {
            "text/plain": [
              "array([['male', 'S'],\n",
              "       ['female', 'C'],\n",
              "       ['female', 'S'],\n",
              "       ...,\n",
              "       ['female', 'S'],\n",
              "       ['male', 'C'],\n",
              "       ['male', 'Q']], dtype=object)"
            ]
          },
          "metadata": {},
          "execution_count": 14
        }
      ]
    },
    {
      "cell_type": "code",
      "source": [
        "from sklearn.preprocessing import OneHotEncoder\n",
        "encoder = OneHotEncoder()\n",
        "XcatHot = encoder.fit_transform(XcatLimpo)\n",
        "XcatHot\n",
        "import numpy as np\n",
        "Xtratado = np.c_[XnumLimpo, XcatHot.toarray()]\n",
        "Xtratado.shape"
      ],
      "metadata": {
        "id": "RVtOAj27j7Us",
        "colab": {
          "base_uri": "https://localhost:8080/"
        },
        "outputId": "a5bef41e-8ebc-49b6-9058-d424809d0875"
      },
      "execution_count": null,
      "outputs": [
        {
          "output_type": "execute_result",
          "data": {
            "text/plain": [
              "(891, 10)"
            ]
          },
          "metadata": {},
          "execution_count": 15
        }
      ]
    },
    {
      "cell_type": "code",
      "source": [
        "import pandas as pd\n",
        "train = pd.read_csv('train.csv')\n",
        "test = pd.read_csv('test.csv')\n",
        "train.columns.isin(test.columns)"
      ],
      "metadata": {
        "id": "qTschXbnkCf0",
        "colab": {
          "base_uri": "https://localhost:8080/"
        },
        "outputId": "8a4564d6-9e1c-4324-dfef-8564298de436"
      },
      "execution_count": null,
      "outputs": [
        {
          "output_type": "execute_result",
          "data": {
            "text/plain": [
              "array([ True, False,  True,  True,  True,  True,  True,  True,  True,\n",
              "        True,  True,  True])"
            ]
          },
          "metadata": {},
          "execution_count": 16
        }
      ]
    },
    {
      "cell_type": "code",
      "source": [
        "train.columns[~train.columns.isin(test.columns)]"
      ],
      "metadata": {
        "id": "fBLzLS_2kRzt",
        "colab": {
          "base_uri": "https://localhost:8080/"
        },
        "outputId": "daef7d05-d73b-4f23-9dc4-5696b685814a"
      },
      "execution_count": null,
      "outputs": [
        {
          "output_type": "execute_result",
          "data": {
            "text/plain": [
              "Index(['Survived'], dtype='object')"
            ]
          },
          "metadata": {},
          "execution_count": 17
        }
      ]
    },
    {
      "cell_type": "code",
      "source": [
        "from sklearn.base import BaseEstimator, TransformerMixin\n",
        "\n",
        "class AtributosDesejados (BaseEstimator, TransformerMixin):\n",
        "    def fit (self, X, y=None):\n",
        "        self.colunasIndesejadas_ = ['PassengerId', 'Name','Ticket','Cabin']\n",
        "        return self\n",
        "    def transform(self, X, y=None):\n",
        "        return X.drop(self.colunasIndesejadas_, axis=1)\n",
        "\n",
        "\n",
        "atributosDesejados = AtributosDesejados()\n",
        "Xdrop =  atributosDesejados.fit_transform(X)\n",
        "Xdrop.columns\n",
        "\n",
        "#  classe chamada AtributosDesejados, que herda das classes BaseEstimator e TransformerMixin do scikit-learn.\n",
        "#   Essa classe é projetada para realizar a transformação desejada nos atributos de um conjunto de dados"
      ],
      "metadata": {
        "id": "18B2OSybkXKV",
        "colab": {
          "base_uri": "https://localhost:8080/"
        },
        "outputId": "0ff89068-499c-4dac-e3bd-4109b10d2510"
      },
      "execution_count": null,
      "outputs": [
        {
          "output_type": "execute_result",
          "data": {
            "text/plain": [
              "Index(['Pclass', 'Sex', 'Age', 'SibSp', 'Parch', 'Fare', 'Embarked'], dtype='object')"
            ]
          },
          "metadata": {},
          "execution_count": 18
        }
      ]
    },
    {
      "cell_type": "code",
      "source": [
        "from sklearn.base  import  BaseEstimator, TransformerMixin\n",
        "\n",
        "class AtributosNumericos (BaseEstimator, TransformerMixin):\n",
        "    def fit(self, X, y=None):\n",
        "        self.colunasNumericas = X.select_dtypes(include='number').columns\n",
        "        return self\n",
        "\n",
        "    def transform(self, X, y=None):\n",
        "        return X[self.colunasNumericas]\n",
        "\n",
        "atributosNumericos = AtributosNumericos()\n",
        "Xnum = atributosNumericos.fit_transform(Xdrop)\n",
        "Xnum.columns\n",
        "\n",
        "#  classe chamada AtributosNumericos, que herda das classes BaseEstimator e TransformerMixin do scikit-learn.\n",
        "#  Esta classe é projetada para selecionar apenas os atributos numéricos de um conjunto de dados."
      ],
      "metadata": {
        "id": "w8R2NUhVkpwd",
        "colab": {
          "base_uri": "https://localhost:8080/"
        },
        "outputId": "acc8a913-a0fa-4456-8713-2656357aac0e"
      },
      "execution_count": null,
      "outputs": [
        {
          "output_type": "execute_result",
          "data": {
            "text/plain": [
              "Index(['Pclass', 'Age', 'SibSp', 'Parch', 'Fare'], dtype='object')"
            ]
          },
          "metadata": {},
          "execution_count": 19
        }
      ]
    },
    {
      "cell_type": "code",
      "source": [
        "# cria um pipeline usando a classe Pipeline do scikit-learn.\n",
        "# Esse pipeline realiza uma sequência de transformações nos atributos numéricos do conjunto de dados.\n",
        "\n",
        "\n",
        "from sklearn.pipeline import Pipeline\n",
        "from sklearn.impute import SimpleImputer\n",
        "from sklearn.preprocessing import StandardScaler\n",
        "\n",
        "pipeline = Pipeline([\n",
        "    ('atributos_numericos', AtributosNumericos()),\n",
        "    ('imputer', SimpleImputer(strategy=\"median\")),\n",
        "    ('scaler', StandardScaler())\n",
        "])\n",
        "\n",
        "XnumLimpo = pipeline.fit_transform(Xdrop)\n",
        "XnumLimpo"
      ],
      "metadata": {
        "id": "DyXJikWXk5p2",
        "colab": {
          "base_uri": "https://localhost:8080/"
        },
        "outputId": "b48ace72-4da4-4cbc-e402-3be0b9e0d8ce"
      },
      "execution_count": null,
      "outputs": [
        {
          "output_type": "execute_result",
          "data": {
            "text/plain": [
              "array([[ 0.82737724, -0.56573646,  0.43279337, -0.47367361, -0.50244517],\n",
              "       [-1.56610693,  0.66386103,  0.43279337, -0.47367361,  0.78684529],\n",
              "       [ 0.82737724, -0.25833709, -0.4745452 , -0.47367361, -0.48885426],\n",
              "       ...,\n",
              "       [ 0.82737724, -0.1046374 ,  0.43279337,  2.00893337, -0.17626324],\n",
              "       [-1.56610693, -0.25833709, -0.4745452 , -0.47367361, -0.04438104],\n",
              "       [ 0.82737724,  0.20276197, -0.4745452 , -0.47367361, -0.49237783]])"
            ]
          },
          "metadata": {},
          "execution_count": 20
        }
      ]
    },
    {
      "cell_type": "code",
      "source": [
        "from sklearn.base  import BaseEstimator,TransformerMixin\n",
        "\n",
        "class AtributosCategoricos(BaseEstimator, TransformerMixin):\n",
        "    def fit(self, X, y=None):\n",
        "        self.colunasCategoricas = X.select_dtypes(include='object').columns\n",
        "        return self\n",
        "\n",
        "    def transform(self, X, y=None):\n",
        "        return X[self.colunasCategoricas]\n",
        "\n",
        "atributosCategoricos = AtributosCategoricos()\n",
        "Xcat= atributosCategoricos.fit_transform(Xdrop)\n",
        "Xcat.columns\n",
        "\n",
        "\n",
        "# O código que você forneceu define uma classe chamada AtributosCategoricos,\n",
        "#  que herda das classes BaseEstimator e TransformerMixin do scikit-learn.\n",
        "#  Essa classe é projetada para selecionar apenas os atributos categóricos de um conjunto de dados."
      ],
      "metadata": {
        "id": "N1u0ZL8olWV1",
        "colab": {
          "base_uri": "https://localhost:8080/"
        },
        "outputId": "d973b30c-413c-430a-efea-c61d30128a79"
      },
      "execution_count": null,
      "outputs": [
        {
          "data": {
            "text/plain": [
              "Index(['Sex', 'Embarked'], dtype='object')"
            ]
          },
          "execution_count": 21,
          "metadata": {},
          "output_type": "execute_result"
        }
      ]
    },
    {
      "cell_type": "code",
      "source": [
        "from sklearn.pipeline import Pipeline\n",
        "from sklearn.impute import SimpleImputer\n",
        "from sklearn.preprocessing import OneHotEncoder\n",
        "\n",
        "pipecat = Pipeline([\n",
        "    ('atributos_categoricos', AtributosCategoricos()),\n",
        "    ('imputer', SimpleImputer(strategy='most_frequent')),\n",
        "    ('encoder', OneHotEncoder())\n",
        "])\n",
        "\n",
        "XcatLimpo = pipecat.fit_transform(Xdrop)\n",
        "XcatLimpo.toarray()\n",
        "\n",
        "\n",
        "# O código que você forneceu cria um pipeline para lidar com atributos\n",
        "#  categóricos usando a classe Pipeline do scikit-learn. Este pipeline realiza\n",
        "#   uma sequência de transformações nos atributos categóricos do conjunto de dados."
      ],
      "metadata": {
        "id": "278KGqPNlkX8",
        "colab": {
          "base_uri": "https://localhost:8080/"
        },
        "outputId": "19ba0ee0-7f14-417f-9a70-12a09bd8f76c"
      },
      "execution_count": null,
      "outputs": [
        {
          "output_type": "execute_result",
          "data": {
            "text/plain": [
              "array([[0., 1., 0., 0., 1.],\n",
              "       [1., 0., 1., 0., 0.],\n",
              "       [1., 0., 0., 0., 1.],\n",
              "       ...,\n",
              "       [1., 0., 0., 0., 1.],\n",
              "       [0., 1., 1., 0., 0.],\n",
              "       [0., 1., 0., 1., 0.]])"
            ]
          },
          "metadata": {},
          "execution_count": 22
        }
      ]
    },
    {
      "cell_type": "code",
      "source": [],
      "metadata": {
        "id": "BB-BbjWndzCO"
      },
      "execution_count": null,
      "outputs": []
    },
    {
      "cell_type": "code",
      "execution_count": null,
      "metadata": {
        "id": "UWsAoNeaFb2T",
        "colab": {
          "base_uri": "https://localhost:8080/"
        },
        "outputId": "ae6d044d-e5b1-4fd1-914e-2aeff5786642"
      },
      "outputs": [
        {
          "output_type": "execute_result",
          "data": {
            "text/plain": [
              "array([[ 0.82737724, -0.56573646,  0.43279337, ...,  0.        ,\n",
              "         0.        ,  1.        ],\n",
              "       [-1.56610693,  0.66386103,  0.43279337, ...,  1.        ,\n",
              "         0.        ,  0.        ],\n",
              "       [ 0.82737724, -0.25833709, -0.4745452 , ...,  0.        ,\n",
              "         0.        ,  1.        ],\n",
              "       ...,\n",
              "       [ 0.82737724, -0.1046374 ,  0.43279337, ...,  0.        ,\n",
              "         0.        ,  1.        ],\n",
              "       [-1.56610693, -0.25833709, -0.4745452 , ...,  1.        ,\n",
              "         0.        ,  0.        ],\n",
              "       [ 0.82737724,  0.20276197, -0.4745452 , ...,  0.        ,\n",
              "         1.        ,  0.        ]])"
            ]
          },
          "metadata": {},
          "execution_count": 24
        }
      ],
      "source": [
        "from sklearn.pipeline import FeatureUnion\n",
        "\n",
        "unecaracteristicas = FeatureUnion([\n",
        "    ('pipeline', pipeline),\n",
        "    ('pipecat', pipecat)\n",
        "])\n",
        "\n",
        "Xtratado = unecaracteristicas.fit_transform(Xdrop)\n",
        "Xtratado.toarray()\n",
        "\n",
        "# a classe FeatureUnion para combinar características provenientes de dois pipelines\n",
        "#  diferentes (pipeline e pipecat). A explicação é essencialmente a mesma.\n",
        "#  A classe FeatureUnion é usada para unir características provenientes de diferentes\n",
        "#   transformações de maneira paralela.Aqui estamos aplicando a união de características aos dados Xdrop,\n",
        "#   que passa por dois pipelines distintos (pipeline para características numéricas e pipecat\n",
        "#   para características categóricas).\n",
        "#   O resultado é armazenado em Xtratado, e converte a representação\n",
        "#   esparsa resultante para uma matriz densa usando toarray()."
      ]
    },
    {
      "cell_type": "code",
      "source": [],
      "metadata": {
        "id": "eI2efpUveyaV"
      },
      "execution_count": null,
      "outputs": []
    },
    {
      "cell_type": "code",
      "source": [
        "from sklearn.pipeline import Pipeline\n",
        "\n",
        "preproc = Pipeline([\n",
        "    ('atributos_desejados', AtributosDesejados()),\n",
        "    ('unecaracteristicas', unecaracteristicas)\n",
        "])\n",
        "\n",
        "Xtratado = preproc.fit_transform(X)\n",
        "Xtratado.toarray()"
      ],
      "metadata": {
        "id": "0G-zuL-b56uQ",
        "colab": {
          "base_uri": "https://localhost:8080/"
        },
        "outputId": "743217e8-c4fb-4060-f269-55986246d944"
      },
      "execution_count": null,
      "outputs": [
        {
          "output_type": "execute_result",
          "data": {
            "text/plain": [
              "array([[ 0.82737724, -0.56573646,  0.43279337, ...,  0.        ,\n",
              "         0.        ,  1.        ],\n",
              "       [-1.56610693,  0.66386103,  0.43279337, ...,  1.        ,\n",
              "         0.        ,  0.        ],\n",
              "       [ 0.82737724, -0.25833709, -0.4745452 , ...,  0.        ,\n",
              "         0.        ,  1.        ],\n",
              "       ...,\n",
              "       [ 0.82737724, -0.1046374 ,  0.43279337, ...,  0.        ,\n",
              "         0.        ,  1.        ],\n",
              "       [-1.56610693, -0.25833709, -0.4745452 , ...,  1.        ,\n",
              "         0.        ,  0.        ],\n",
              "       [ 0.82737724,  0.20276197, -0.4745452 , ...,  0.        ,\n",
              "         1.        ,  0.        ]])"
            ]
          },
          "metadata": {},
          "execution_count": 26
        }
      ]
    },
    {
      "cell_type": "code",
      "source": [],
      "metadata": {
        "id": "KJUUMyXartMM"
      },
      "execution_count": null,
      "outputs": []
    },
    {
      "cell_type": "code",
      "execution_count": null,
      "metadata": {
        "id": "A2Ieo2RTFrHn",
        "colab": {
          "base_uri": "https://localhost:8080/"
        },
        "outputId": "129820ad-f699-432e-c675-0778c51dd85d"
      },
      "outputs": [
        {
          "output_type": "execute_result",
          "data": {
            "text/plain": [
              "0.9797979797979798"
            ]
          },
          "metadata": {},
          "execution_count": 27
        }
      ],
      "source": [
        "from sklearn.tree import DecisionTreeClassifier\n",
        "from sklearn.metrics import accuracy_score\n",
        "\n",
        "pipetotal = Pipeline([\n",
        "    ('preproc', preproc),\n",
        "    ('arvore', DecisionTreeClassifier())\n",
        "])\n",
        "\n",
        "pipetotal.fit(X, y)\n",
        "ypred = pipetotal.predict(X)\n",
        "accuracy_score(y, ypred)"
      ]
    },
    {
      "cell_type": "code",
      "execution_count": null,
      "metadata": {
        "id": "AwEhqkHhFtcy",
        "colab": {
          "base_uri": "https://localhost:8080/"
        },
        "outputId": "70a26346-b7b5-4ac9-8926-c13f184ce34e"
      },
      "outputs": [
        {
          "output_type": "execute_result",
          "data": {
            "text/plain": [
              "({'fit_time': array([0.01543736, 0.01063037, 0.01108456, 0.01056623, 0.0110507 ]),\n",
              "  'score_time': array([0.00453758, 0.00456285, 0.00437331, 0.00472736, 0.00548673]),\n",
              "  'test_score': array([0.75977654, 0.80337079, 0.80898876, 0.74157303, 0.82022472])},\n",
              " 0.7867867679367271)"
            ]
          },
          "metadata": {},
          "execution_count": 28
        }
      ],
      "source": [
        "import numpy as np\n",
        "from sklearn.model_selection import cross_validate\n",
        "\n",
        "scores = cross_validate(pipetotal, X, y)\n",
        "scores, np.mean(scores['test_score'])"
      ]
    },
    {
      "cell_type": "code",
      "execution_count": null,
      "metadata": {
        "id": "-MMZagcaIdJZ"
      },
      "outputs": [],
      "source": [
        "pipetotal.fit(X, y)\n",
        "ypred = pipetotal.predict(test)\n",
        "\n",
        "submission = pd.read_csv('gender_submission.csv')\n",
        "submission['Survived'] = ypred\n",
        "submission.to_csv('tree_submission.csv', index=False)"
      ]
    },
    {
      "cell_type": "code",
      "execution_count": null,
      "metadata": {
        "id": "VGzwSb_HIdvH",
        "colab": {
          "base_uri": "https://localhost:8080/"
        },
        "outputId": "505130e5-08b5-461b-d32a-c90d42f09451"
      },
      "outputs": [
        {
          "output_type": "execute_result",
          "data": {
            "text/plain": [
              "({'fit_time': array([1.57303762, 1.94370461, 1.54772711, 1.45177341, 1.46605945]),\n",
              "  'score_time': array([0.00575376, 0.00664473, 0.00464201, 0.00432634, 0.00411248]),\n",
              "  'test_score': array([0.81564246, 0.82022472, 0.81460674, 0.78089888, 0.83707865])},\n",
              " 0.8136902893729208)"
            ]
          },
          "metadata": {},
          "execution_count": 30
        }
      ],
      "source": [
        "from sklearn.model_selection import GridSearchCV\n",
        "\n",
        "parametros = {\n",
        "    'arvore__max_depth': [None, 1, 3, 5, 7, 9],\n",
        "    'preproc__unecaracteristicas__pipeline__imputer__strategy': ['mean', 'median', 'most_frequent']\n",
        "}\n",
        "\n",
        "modelo = GridSearchCV(pipetotal, param_grid=parametros)\n",
        "\n",
        "scores = cross_validate(modelo, X, y)\n",
        "scores, np.mean(scores['test_score'])"
      ]
    },
    {
      "cell_type": "code",
      "execution_count": null,
      "metadata": {
        "id": "R78LmfLZIvFA",
        "colab": {
          "base_uri": "https://localhost:8080/",
          "height": 314
        },
        "outputId": "5cff553a-ba63-458d-c916-1dab076a179d"
      },
      "outputs": [
        {
          "output_type": "execute_result",
          "data": {
            "text/plain": [
              "Pipeline(steps=[('preproc',\n",
              "                 Pipeline(steps=[('atributos_desejados', AtributosDesejados()),\n",
              "                                 ('unecaracteristicas',\n",
              "                                  FeatureUnion(transformer_list=[('pipeline',\n",
              "                                                                  Pipeline(steps=[('atributos_numericos',\n",
              "                                                                                   AtributosNumericos()),\n",
              "                                                                                  ('imputer',\n",
              "                                                                                   SimpleImputer(strategy='most_frequent')),\n",
              "                                                                                  ('scaler',\n",
              "                                                                                   StandardScaler())])),\n",
              "                                                                 ('pipecat',\n",
              "                                                                  Pipeline(steps=[('atributos_categoricos',\n",
              "                                                                                   AtributosCategoricos()),\n",
              "                                                                                  ('imputer',\n",
              "                                                                                   SimpleImputer(strategy='most_frequent')),\n",
              "                                                                                  ('encoder',\n",
              "                                                                                   OneHotEncoder())]))]))])),\n",
              "                ('arvore', DecisionTreeClassifier(max_depth=5))])"
            ],
            "text/html": [
              "<style>#sk-container-id-1 {color: black;background-color: white;}#sk-container-id-1 pre{padding: 0;}#sk-container-id-1 div.sk-toggleable {background-color: white;}#sk-container-id-1 label.sk-toggleable__label {cursor: pointer;display: block;width: 100%;margin-bottom: 0;padding: 0.3em;box-sizing: border-box;text-align: center;}#sk-container-id-1 label.sk-toggleable__label-arrow:before {content: \"▸\";float: left;margin-right: 0.25em;color: #696969;}#sk-container-id-1 label.sk-toggleable__label-arrow:hover:before {color: black;}#sk-container-id-1 div.sk-estimator:hover label.sk-toggleable__label-arrow:before {color: black;}#sk-container-id-1 div.sk-toggleable__content {max-height: 0;max-width: 0;overflow: hidden;text-align: left;background-color: #f0f8ff;}#sk-container-id-1 div.sk-toggleable__content pre {margin: 0.2em;color: black;border-radius: 0.25em;background-color: #f0f8ff;}#sk-container-id-1 input.sk-toggleable__control:checked~div.sk-toggleable__content {max-height: 200px;max-width: 100%;overflow: auto;}#sk-container-id-1 input.sk-toggleable__control:checked~label.sk-toggleable__label-arrow:before {content: \"▾\";}#sk-container-id-1 div.sk-estimator input.sk-toggleable__control:checked~label.sk-toggleable__label {background-color: #d4ebff;}#sk-container-id-1 div.sk-label input.sk-toggleable__control:checked~label.sk-toggleable__label {background-color: #d4ebff;}#sk-container-id-1 input.sk-hidden--visually {border: 0;clip: rect(1px 1px 1px 1px);clip: rect(1px, 1px, 1px, 1px);height: 1px;margin: -1px;overflow: hidden;padding: 0;position: absolute;width: 1px;}#sk-container-id-1 div.sk-estimator {font-family: monospace;background-color: #f0f8ff;border: 1px dotted black;border-radius: 0.25em;box-sizing: border-box;margin-bottom: 0.5em;}#sk-container-id-1 div.sk-estimator:hover {background-color: #d4ebff;}#sk-container-id-1 div.sk-parallel-item::after {content: \"\";width: 100%;border-bottom: 1px solid gray;flex-grow: 1;}#sk-container-id-1 div.sk-label:hover label.sk-toggleable__label {background-color: #d4ebff;}#sk-container-id-1 div.sk-serial::before {content: \"\";position: absolute;border-left: 1px solid gray;box-sizing: border-box;top: 0;bottom: 0;left: 50%;z-index: 0;}#sk-container-id-1 div.sk-serial {display: flex;flex-direction: column;align-items: center;background-color: white;padding-right: 0.2em;padding-left: 0.2em;position: relative;}#sk-container-id-1 div.sk-item {position: relative;z-index: 1;}#sk-container-id-1 div.sk-parallel {display: flex;align-items: stretch;justify-content: center;background-color: white;position: relative;}#sk-container-id-1 div.sk-item::before, #sk-container-id-1 div.sk-parallel-item::before {content: \"\";position: absolute;border-left: 1px solid gray;box-sizing: border-box;top: 0;bottom: 0;left: 50%;z-index: -1;}#sk-container-id-1 div.sk-parallel-item {display: flex;flex-direction: column;z-index: 1;position: relative;background-color: white;}#sk-container-id-1 div.sk-parallel-item:first-child::after {align-self: flex-end;width: 50%;}#sk-container-id-1 div.sk-parallel-item:last-child::after {align-self: flex-start;width: 50%;}#sk-container-id-1 div.sk-parallel-item:only-child::after {width: 0;}#sk-container-id-1 div.sk-dashed-wrapped {border: 1px dashed gray;margin: 0 0.4em 0.5em 0.4em;box-sizing: border-box;padding-bottom: 0.4em;background-color: white;}#sk-container-id-1 div.sk-label label {font-family: monospace;font-weight: bold;display: inline-block;line-height: 1.2em;}#sk-container-id-1 div.sk-label-container {text-align: center;}#sk-container-id-1 div.sk-container {/* jupyter's `normalize.less` sets `[hidden] { display: none; }` but bootstrap.min.css set `[hidden] { display: none !important; }` so we also need the `!important` here to be able to override the default hidden behavior on the sphinx rendered scikit-learn.org. See: https://github.com/scikit-learn/scikit-learn/issues/21755 */display: inline-block !important;position: relative;}#sk-container-id-1 div.sk-text-repr-fallback {display: none;}</style><div id=\"sk-container-id-1\" class=\"sk-top-container\"><div class=\"sk-text-repr-fallback\"><pre>Pipeline(steps=[(&#x27;preproc&#x27;,\n",
              "                 Pipeline(steps=[(&#x27;atributos_desejados&#x27;, AtributosDesejados()),\n",
              "                                 (&#x27;unecaracteristicas&#x27;,\n",
              "                                  FeatureUnion(transformer_list=[(&#x27;pipeline&#x27;,\n",
              "                                                                  Pipeline(steps=[(&#x27;atributos_numericos&#x27;,\n",
              "                                                                                   AtributosNumericos()),\n",
              "                                                                                  (&#x27;imputer&#x27;,\n",
              "                                                                                   SimpleImputer(strategy=&#x27;most_frequent&#x27;)),\n",
              "                                                                                  (&#x27;scaler&#x27;,\n",
              "                                                                                   StandardScaler())])),\n",
              "                                                                 (&#x27;pipecat&#x27;,\n",
              "                                                                  Pipeline(steps=[(&#x27;atributos_categoricos&#x27;,\n",
              "                                                                                   AtributosCategoricos()),\n",
              "                                                                                  (&#x27;imputer&#x27;,\n",
              "                                                                                   SimpleImputer(strategy=&#x27;most_frequent&#x27;)),\n",
              "                                                                                  (&#x27;encoder&#x27;,\n",
              "                                                                                   OneHotEncoder())]))]))])),\n",
              "                (&#x27;arvore&#x27;, DecisionTreeClassifier(max_depth=5))])</pre><b>In a Jupyter environment, please rerun this cell to show the HTML representation or trust the notebook. <br />On GitHub, the HTML representation is unable to render, please try loading this page with nbviewer.org.</b></div><div class=\"sk-container\" hidden><div class=\"sk-item sk-dashed-wrapped\"><div class=\"sk-label-container\"><div class=\"sk-label sk-toggleable\"><input class=\"sk-toggleable__control sk-hidden--visually\" id=\"sk-estimator-id-1\" type=\"checkbox\" ><label for=\"sk-estimator-id-1\" class=\"sk-toggleable__label sk-toggleable__label-arrow\">Pipeline</label><div class=\"sk-toggleable__content\"><pre>Pipeline(steps=[(&#x27;preproc&#x27;,\n",
              "                 Pipeline(steps=[(&#x27;atributos_desejados&#x27;, AtributosDesejados()),\n",
              "                                 (&#x27;unecaracteristicas&#x27;,\n",
              "                                  FeatureUnion(transformer_list=[(&#x27;pipeline&#x27;,\n",
              "                                                                  Pipeline(steps=[(&#x27;atributos_numericos&#x27;,\n",
              "                                                                                   AtributosNumericos()),\n",
              "                                                                                  (&#x27;imputer&#x27;,\n",
              "                                                                                   SimpleImputer(strategy=&#x27;most_frequent&#x27;)),\n",
              "                                                                                  (&#x27;scaler&#x27;,\n",
              "                                                                                   StandardScaler())])),\n",
              "                                                                 (&#x27;pipecat&#x27;,\n",
              "                                                                  Pipeline(steps=[(&#x27;atributos_categoricos&#x27;,\n",
              "                                                                                   AtributosCategoricos()),\n",
              "                                                                                  (&#x27;imputer&#x27;,\n",
              "                                                                                   SimpleImputer(strategy=&#x27;most_frequent&#x27;)),\n",
              "                                                                                  (&#x27;encoder&#x27;,\n",
              "                                                                                   OneHotEncoder())]))]))])),\n",
              "                (&#x27;arvore&#x27;, DecisionTreeClassifier(max_depth=5))])</pre></div></div></div><div class=\"sk-serial\"><div class=\"sk-item\"><div class=\"sk-label-container\"><div class=\"sk-label sk-toggleable\"><input class=\"sk-toggleable__control sk-hidden--visually\" id=\"sk-estimator-id-2\" type=\"checkbox\" ><label for=\"sk-estimator-id-2\" class=\"sk-toggleable__label sk-toggleable__label-arrow\">preproc: Pipeline</label><div class=\"sk-toggleable__content\"><pre>Pipeline(steps=[(&#x27;atributos_desejados&#x27;, AtributosDesejados()),\n",
              "                (&#x27;unecaracteristicas&#x27;,\n",
              "                 FeatureUnion(transformer_list=[(&#x27;pipeline&#x27;,\n",
              "                                                 Pipeline(steps=[(&#x27;atributos_numericos&#x27;,\n",
              "                                                                  AtributosNumericos()),\n",
              "                                                                 (&#x27;imputer&#x27;,\n",
              "                                                                  SimpleImputer(strategy=&#x27;most_frequent&#x27;)),\n",
              "                                                                 (&#x27;scaler&#x27;,\n",
              "                                                                  StandardScaler())])),\n",
              "                                                (&#x27;pipecat&#x27;,\n",
              "                                                 Pipeline(steps=[(&#x27;atributos_categoricos&#x27;,\n",
              "                                                                  AtributosCategoricos()),\n",
              "                                                                 (&#x27;imputer&#x27;,\n",
              "                                                                  SimpleImputer(strategy=&#x27;most_frequent&#x27;)),\n",
              "                                                                 (&#x27;encoder&#x27;,\n",
              "                                                                  OneHotEncoder())]))]))])</pre></div></div></div><div class=\"sk-serial\"><div class=\"sk-item\"><div class=\"sk-estimator sk-toggleable\"><input class=\"sk-toggleable__control sk-hidden--visually\" id=\"sk-estimator-id-3\" type=\"checkbox\" ><label for=\"sk-estimator-id-3\" class=\"sk-toggleable__label sk-toggleable__label-arrow\">AtributosDesejados</label><div class=\"sk-toggleable__content\"><pre>AtributosDesejados()</pre></div></div></div><div class=\"sk-item sk-dashed-wrapped\"><div class=\"sk-label-container\"><div class=\"sk-label sk-toggleable\"><input class=\"sk-toggleable__control sk-hidden--visually\" id=\"sk-estimator-id-4\" type=\"checkbox\" ><label for=\"sk-estimator-id-4\" class=\"sk-toggleable__label sk-toggleable__label-arrow\">unecaracteristicas: FeatureUnion</label><div class=\"sk-toggleable__content\"><pre>FeatureUnion(transformer_list=[(&#x27;pipeline&#x27;,\n",
              "                                Pipeline(steps=[(&#x27;atributos_numericos&#x27;,\n",
              "                                                 AtributosNumericos()),\n",
              "                                                (&#x27;imputer&#x27;,\n",
              "                                                 SimpleImputer(strategy=&#x27;most_frequent&#x27;)),\n",
              "                                                (&#x27;scaler&#x27;, StandardScaler())])),\n",
              "                               (&#x27;pipecat&#x27;,\n",
              "                                Pipeline(steps=[(&#x27;atributos_categoricos&#x27;,\n",
              "                                                 AtributosCategoricos()),\n",
              "                                                (&#x27;imputer&#x27;,\n",
              "                                                 SimpleImputer(strategy=&#x27;most_frequent&#x27;)),\n",
              "                                                (&#x27;encoder&#x27;,\n",
              "                                                 OneHotEncoder())]))])</pre></div></div></div><div class=\"sk-parallel\"><div class=\"sk-parallel-item\"><div class=\"sk-item\"><div class=\"sk-label-container\"><div class=\"sk-label sk-toggleable\"><label>pipeline</label></div></div><div class=\"sk-serial\"><div class=\"sk-item\"><div class=\"sk-serial\"><div class=\"sk-item\"><div class=\"sk-estimator sk-toggleable\"><input class=\"sk-toggleable__control sk-hidden--visually\" id=\"sk-estimator-id-5\" type=\"checkbox\" ><label for=\"sk-estimator-id-5\" class=\"sk-toggleable__label sk-toggleable__label-arrow\">AtributosNumericos</label><div class=\"sk-toggleable__content\"><pre>AtributosNumericos()</pre></div></div></div><div class=\"sk-item\"><div class=\"sk-estimator sk-toggleable\"><input class=\"sk-toggleable__control sk-hidden--visually\" id=\"sk-estimator-id-6\" type=\"checkbox\" ><label for=\"sk-estimator-id-6\" class=\"sk-toggleable__label sk-toggleable__label-arrow\">SimpleImputer</label><div class=\"sk-toggleable__content\"><pre>SimpleImputer(strategy=&#x27;most_frequent&#x27;)</pre></div></div></div><div class=\"sk-item\"><div class=\"sk-estimator sk-toggleable\"><input class=\"sk-toggleable__control sk-hidden--visually\" id=\"sk-estimator-id-7\" type=\"checkbox\" ><label for=\"sk-estimator-id-7\" class=\"sk-toggleable__label sk-toggleable__label-arrow\">StandardScaler</label><div class=\"sk-toggleable__content\"><pre>StandardScaler()</pre></div></div></div></div></div></div></div></div><div class=\"sk-parallel-item\"><div class=\"sk-item\"><div class=\"sk-label-container\"><div class=\"sk-label sk-toggleable\"><label>pipecat</label></div></div><div class=\"sk-serial\"><div class=\"sk-item\"><div class=\"sk-serial\"><div class=\"sk-item\"><div class=\"sk-estimator sk-toggleable\"><input class=\"sk-toggleable__control sk-hidden--visually\" id=\"sk-estimator-id-8\" type=\"checkbox\" ><label for=\"sk-estimator-id-8\" class=\"sk-toggleable__label sk-toggleable__label-arrow\">AtributosCategoricos</label><div class=\"sk-toggleable__content\"><pre>AtributosCategoricos()</pre></div></div></div><div class=\"sk-item\"><div class=\"sk-estimator sk-toggleable\"><input class=\"sk-toggleable__control sk-hidden--visually\" id=\"sk-estimator-id-9\" type=\"checkbox\" ><label for=\"sk-estimator-id-9\" class=\"sk-toggleable__label sk-toggleable__label-arrow\">SimpleImputer</label><div class=\"sk-toggleable__content\"><pre>SimpleImputer(strategy=&#x27;most_frequent&#x27;)</pre></div></div></div><div class=\"sk-item\"><div class=\"sk-estimator sk-toggleable\"><input class=\"sk-toggleable__control sk-hidden--visually\" id=\"sk-estimator-id-10\" type=\"checkbox\" ><label for=\"sk-estimator-id-10\" class=\"sk-toggleable__label sk-toggleable__label-arrow\">OneHotEncoder</label><div class=\"sk-toggleable__content\"><pre>OneHotEncoder()</pre></div></div></div></div></div></div></div></div></div></div></div></div><div class=\"sk-item\"><div class=\"sk-estimator sk-toggleable\"><input class=\"sk-toggleable__control sk-hidden--visually\" id=\"sk-estimator-id-11\" type=\"checkbox\" ><label for=\"sk-estimator-id-11\" class=\"sk-toggleable__label sk-toggleable__label-arrow\">DecisionTreeClassifier</label><div class=\"sk-toggleable__content\"><pre>DecisionTreeClassifier(max_depth=5)</pre></div></div></div></div></div></div></div>"
            ]
          },
          "metadata": {},
          "execution_count": 31
        }
      ],
      "source": [
        "modelo.fit(X, y)\n",
        "modelo.best_estimator_"
      ]
    }
  ]
}